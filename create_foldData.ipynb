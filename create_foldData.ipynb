{
 "cells": [
  {
   "cell_type": "markdown",
   "metadata": {},
   "source": [
    "# Import library"
   ]
  },
  {
   "cell_type": "code",
   "execution_count": 8,
   "metadata": {},
   "outputs": [],
   "source": [
    "import pandas as pd\n",
    "import random\n",
    "import numpy as np"
   ]
  },
  {
   "cell_type": "markdown",
   "metadata": {},
   "source": [
    "# Setting parameta"
   ]
  },
  {
   "cell_type": "code",
   "execution_count": 9,
   "metadata": {},
   "outputs": [],
   "source": [
    "LABELS = '../input/hubmap-organ-segmentation/train.csv'\n",
    "NFOLDS = 4"
   ]
  },
  {
   "cell_type": "markdown",
   "metadata": {},
   "source": [
    "# Read Data"
   ]
  },
  {
   "cell_type": "code",
   "execution_count": 10,
   "metadata": {},
   "outputs": [],
   "source": [
    "df = pd.read_csv(LABELS)"
   ]
  },
  {
   "cell_type": "code",
   "execution_count": 11,
   "metadata": {},
   "outputs": [],
   "source": [
    "minimum_num = np.min(df['organ'].value_counts())\n",
    "valid_category_num = minimum_num // NFOLDS"
   ]
  },
  {
   "cell_type": "markdown",
   "metadata": {},
   "source": [
    "# Split for Train and Valid"
   ]
  },
  {
   "cell_type": "code",
   "execution_count": 12,
   "metadata": {},
   "outputs": [],
   "source": [
    "organ_ids = {}\n",
    "organ = df['organ'].unique().tolist()\n",
    "for typ in organ:\n",
    "    organ_ids[typ] = df[df['organ'] == typ]['id'].to_list()\n",
    "    random.shuffle(organ_ids[typ])"
   ]
  },
  {
   "cell_type": "markdown",
   "metadata": {},
   "source": [
    "# Output index file"
   ]
  },
  {
   "cell_type": "code",
   "execution_count": 13,
   "metadata": {},
   "outputs": [],
   "source": [
    "for i in range(NFOLDS):\n",
    "    fname_train = f'fold_{i}_train.csv'\n",
    "    fname_valid = f'fold_{i}_valid.csv'\n",
    "    train_idx = []\n",
    "    valid_idx = []\n",
    "    for typ in organ:\n",
    "        valid_idx.extend(organ_ids[typ][i*valid_category_num:(i+1)*valid_category_num])\n",
    "        train_idx.extend(set(organ_ids[typ]) - set(valid_idx))\n",
    "    df_idx = []\n",
    "    for idx in valid_idx:\n",
    "        df_idx.extend(df[df['id'] == idx].index.tolist())\n",
    "    df.iloc[df_idx].to_csv(fname_valid, index=False)\n",
    "\n",
    "    df_idx = []\n",
    "    for idx in train_idx:\n",
    "        df_idx.extend(df[df['id'] == idx].index.tolist())\n",
    "    df.iloc[df_idx].to_csv(fname_train, index=False)\n",
    "    "
   ]
  }
 ],
 "metadata": {
  "kernelspec": {
   "display_name": "Python 3.7.12 ('base')",
   "language": "python",
   "name": "python3"
  },
  "language_info": {
   "codemirror_mode": {
    "name": "ipython",
    "version": 3
   },
   "file_extension": ".py",
   "mimetype": "text/x-python",
   "name": "python",
   "nbconvert_exporter": "python",
   "pygments_lexer": "ipython3",
   "version": "3.7.12"
  },
  "orig_nbformat": 4,
  "vscode": {
   "interpreter": {
    "hash": "d4d1e4263499bec80672ea0156c357c1ee493ec2b1c70f0acce89fc37c4a6abe"
   }
  }
 },
 "nbformat": 4,
 "nbformat_minor": 2
}
